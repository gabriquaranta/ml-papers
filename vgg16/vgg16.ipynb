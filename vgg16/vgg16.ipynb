{
  "cells": [
    {
      "cell_type": "code",
      "execution_count": 27,
      "metadata": {
        "id": "7BWvcn4yWOX3"
      },
      "outputs": [],
      "source": [
        "import torch\n",
        "import torch.nn as nn\n",
        "import torchvision.datasets as dset\n",
        "import torchvision.transforms as transforms\n",
        "from torch.autograd import Variable\n",
        "import torch.optim as optim\n",
        "import matplotlib.pyplot as plt"
      ]
    },
    {
      "cell_type": "code",
      "source": [
        "device = torch.device(\"cuda:0\" if torch.cuda.is_available() else \"cpu\")\n",
        "print(device)"
      ],
      "metadata": {
        "colab": {
          "base_uri": "https://localhost:8080/"
        },
        "id": "5Y5IdTkDWQDo",
        "outputId": "34e62d88-0280-4daf-9fd0-064d7831d976"
      },
      "execution_count": 28,
      "outputs": [
        {
          "output_type": "stream",
          "name": "stdout",
          "text": [
            "cuda:0\n"
          ]
        }
      ]
    },
    {
      "cell_type": "markdown",
      "metadata": {
        "id": "lbvLGp3tWOX3"
      },
      "source": [
        "# CIFAR10\n"
      ]
    },
    {
      "cell_type": "code",
      "execution_count": 29,
      "metadata": {
        "colab": {
          "base_uri": "https://localhost:8080/"
        },
        "id": "GQu_5bZTWOX4",
        "outputId": "a164614c-6ae4-42af-c572-1202d2005bf0"
      },
      "outputs": [
        {
          "output_type": "stream",
          "name": "stdout",
          "text": [
            "Files already downloaded and verified\n"
          ]
        }
      ],
      "source": [
        "trans = transforms.Compose([transforms.ToTensor(), transforms.Normalize((0.5,), (1.0,))])\n",
        "trans = transforms.Compose([transforms.ToTensor(), transforms.Normalize((0.5,), (1.0,))])\n",
        "train_set = dset.CIFAR10(root='./data', train=True,  download=True,transform=trans)\n",
        "test_set = dset.CIFAR10(root='./data', train=False, transform=trans)"
      ]
    },
    {
      "cell_type": "code",
      "execution_count": 30,
      "metadata": {
        "id": "OPlUSgw5WOX5"
      },
      "outputs": [],
      "source": [
        "BATCH_SIZE=64\n",
        "train_loader = torch.utils.data.DataLoader(dataset=train_set, batch_size=BATCH_SIZE, shuffle=True)\n",
        "test_loader = torch.utils.data.DataLoader(dataset=test_set, batch_size=BATCH_SIZE, shuffle=False)"
      ]
    },
    {
      "cell_type": "code",
      "execution_count": 31,
      "metadata": {
        "colab": {
          "base_uri": "https://localhost:8080/"
        },
        "id": "XFaBIqETWOX5",
        "outputId": "b96d43d0-34c5-4ac9-d5df-ffc2dc342984"
      },
      "outputs": [
        {
          "output_type": "stream",
          "name": "stdout",
          "text": [
            "torch.Size([64, 3, 32, 32])\n",
            "(50000, 32, 32, 3)\n",
            "(10000, 32, 32, 3)\n"
          ]
        }
      ],
      "source": [
        "batch=next(iter(train_loader))\n",
        "print(batch[0].size())\n",
        "print(train_loader.dataset.data.shape)\n",
        "print(test_loader.dataset.data.shape)\n",
        "\n"
      ]
    },
    {
      "cell_type": "markdown",
      "metadata": {
        "id": "hxA-JTLvWOX5"
      },
      "source": [
        "# VGG16"
      ]
    },
    {
      "cell_type": "code",
      "execution_count": 41,
      "metadata": {
        "id": "dodIcQZuWOX5"
      },
      "outputs": [],
      "source": [
        "class VGG16(nn.Module):\n",
        "    def __init__(self):\n",
        "        super(VGG16, self).__init__()\n",
        "        self.features = nn.Sequential(\n",
        "            nn.Conv2d(3, 64, kernel_size=3, padding=1),\n",
        "            nn.Conv2d(64, 64, kernel_size=3, padding=1),\n",
        "            nn.MaxPool2d(kernel_size=2, stride=2),\n",
        "\n",
        "            nn.Conv2d(64, 128, kernel_size=3, padding=1),\n",
        "            nn.Conv2d(128, 128, kernel_size=3, padding=1),\n",
        "            nn.MaxPool2d(kernel_size=2, stride=2),\n",
        "\n",
        "            nn.Conv2d(128, 256, kernel_size=3, padding=1),\n",
        "            nn.Conv2d(256, 256, kernel_size=3, padding=1),\n",
        "            nn.Conv2d(256, 256, kernel_size=3, padding=1),\n",
        "            nn.MaxPool2d(kernel_size=2, stride=2),\n",
        "\n",
        "            nn.Conv2d(256, 512, kernel_size=3, padding=1),\n",
        "            nn.Conv2d(512, 512, kernel_size=3, padding=1),\n",
        "            nn.Conv2d(512, 512, kernel_size=3, padding=1),\n",
        "            nn.MaxPool2d(kernel_size=2, stride=2),\n",
        "\n",
        "            nn.Conv2d(512, 512, kernel_size=3, padding=1),\n",
        "            nn.Conv2d(512, 512, kernel_size=3, padding=1),\n",
        "            nn.Conv2d(512, 512, kernel_size=3, padding=1),\n",
        "            nn.MaxPool2d(kernel_size=2, stride=2),\n",
        "        )\n",
        "        self.classifier = nn.Sequential(\n",
        "            nn.Linear(512, 1024),\n",
        "            nn.Linear(1024, 2048),\n",
        "            nn.Linear(2048, 10)\n",
        "        )\n",
        "\n",
        "        self._init_weights()\n",
        "\n",
        "    def forward(self, x):\n",
        "        x = self.features(x)\n",
        "        x = x.view(x.size(0), -1)\n",
        "        x = self.classifier(x)\n",
        "        return x\n",
        "\n",
        "    def _init_weights(self):\n",
        "        for m in self.modules():\n",
        "            if isinstance(m, nn.Conv2d) or isinstance(m, nn.Linear):\n",
        "                nn.init.xavier_normal_(m.weight)\n",
        "                nn.init.constant_(m.bias, 0)"
      ]
    },
    {
      "cell_type": "code",
      "execution_count": 33,
      "metadata": {
        "id": "CshobvOKWOX6"
      },
      "outputs": [],
      "source": [
        "def test(model, test_loader, criterion):\n",
        "    model.eval()\n",
        "    test_losses = []\n",
        "    test_accuracies = []\n",
        "\n",
        "\n",
        "    for _, data in enumerate(test_loader):\n",
        "        inputs, labels = data\n",
        "        inputs, labels = Variable(inputs).to(device), Variable(labels).to(device)\n",
        "        outputs = model(inputs)\n",
        "\n",
        "        loss = criterion(outputs, labels)\n",
        "        test_losses.append(loss.item())\n",
        "\n",
        "        _, predicted = torch.max(outputs.data, 1)\n",
        "        correct = (predicted == labels).sum().item()\n",
        "        accuracy = correct / len(labels)\n",
        "        test_accuracies.append(accuracy)\n",
        "\n",
        "    return test_losses, test_accuracies"
      ]
    },
    {
      "cell_type": "code",
      "execution_count": 34,
      "metadata": {
        "id": "skb4F5IJWOX6"
      },
      "outputs": [],
      "source": [
        "EPOCHS=2\n",
        "\n",
        "def train(model, train_loader, optimizer, criterion):\n",
        "    train_losses = []\n",
        "    test_losses = []\n",
        "    test_accuracies = []\n",
        "\n",
        "    model.train()\n",
        "\n",
        "    for epoch in range(EPOCHS):\n",
        "        for i, (images, labels) in enumerate(train_loader):\n",
        "            images = Variable(images).to(device)\n",
        "            labels = Variable(labels).to(device)\n",
        "\n",
        "            optimizer.zero_grad()\n",
        "            outputs = model(images)\n",
        "            loss = criterion(outputs, labels)\n",
        "            loss.backward()\n",
        "            optimizer.step()\n",
        "\n",
        "            train_losses.append(loss.item())\n",
        "\n",
        "            if i%100==0:\n",
        "\n",
        "                tl, ta = test(model, test_loader, criterion)\n",
        "                test_losses.extend(tl)\n",
        "                test_accuracies.extend(ta)\n",
        "\n",
        "                print(f'Epoch {epoch+1}/{EPOCHS}, Step {i+1}/{len(train_loader)}\\n - Train Loss: {loss.item()}')\n",
        "                print(f' - Test Loss: {tl[-1]}\\n - Test Accuracy: {ta[-1]}')\n",
        "\n",
        "            if sum(test_accuracies[-3:])/3 > 0.95:\n",
        "                print('Performance condition satisfied.')\n",
        "                return train_losses, test_losses, test_accuracies\n",
        "\n",
        "\n",
        "    return train_losses, test_losses, test_accuracies\n",
        "\n"
      ]
    },
    {
      "cell_type": "code",
      "execution_count": 42,
      "metadata": {
        "colab": {
          "base_uri": "https://localhost:8080/"
        },
        "id": "wejTMnVdWOX6",
        "outputId": "3633e46f-3ef9-4f17-ecc4-cf05254f2a0f"
      },
      "outputs": [
        {
          "output_type": "stream",
          "name": "stdout",
          "text": [
            "Epoch 1/2, Step 1/782\n",
            " - Train Loss: 2.302443265914917\n",
            " - Test Loss: 3.888859748840332\n",
            " - Test Accuracy: 0.0\n",
            "Epoch 1/2, Step 101/782\n",
            " - Train Loss: 3.305732011795044\n",
            " - Test Loss: 2.4741997718811035\n",
            " - Test Accuracy: 0.1875\n",
            "Epoch 1/2, Step 201/782\n",
            " - Train Loss: 1.7159432172775269\n",
            " - Test Loss: 1.815386414527893\n",
            " - Test Accuracy: 0.375\n",
            "Epoch 1/2, Step 301/782\n",
            " - Train Loss: 1.7549597024917603\n",
            " - Test Loss: 1.619982361793518\n",
            " - Test Accuracy: 0.25\n",
            "Epoch 1/2, Step 401/782\n",
            " - Train Loss: 1.7771238088607788\n",
            " - Test Loss: 1.6018718481063843\n",
            " - Test Accuracy: 0.4375\n",
            "Epoch 1/2, Step 501/782\n",
            " - Train Loss: 1.5428297519683838\n",
            " - Test Loss: 2.0109245777130127\n",
            " - Test Accuracy: 0.4375\n",
            "Epoch 1/2, Step 601/782\n",
            " - Train Loss: 1.2862132787704468\n",
            " - Test Loss: 1.7454043626785278\n",
            " - Test Accuracy: 0.375\n",
            "Epoch 1/2, Step 701/782\n",
            " - Train Loss: 1.5998836755752563\n",
            " - Test Loss: 1.510740041732788\n",
            " - Test Accuracy: 0.5\n",
            "Epoch 2/2, Step 1/782\n",
            " - Train Loss: 1.23955500125885\n",
            " - Test Loss: 1.6953855752944946\n",
            " - Test Accuracy: 0.375\n",
            "Epoch 2/2, Step 101/782\n",
            " - Train Loss: 1.2295148372650146\n",
            " - Test Loss: 1.518011212348938\n",
            " - Test Accuracy: 0.5\n",
            "Epoch 2/2, Step 201/782\n",
            " - Train Loss: 1.4266828298568726\n",
            " - Test Loss: 1.4437276124954224\n",
            " - Test Accuracy: 0.5\n",
            "Epoch 2/2, Step 301/782\n",
            " - Train Loss: 1.1643980741500854\n",
            " - Test Loss: 1.7293684482574463\n",
            " - Test Accuracy: 0.5\n",
            "Epoch 2/2, Step 401/782\n",
            " - Train Loss: 1.1669535636901855\n",
            " - Test Loss: 1.1934738159179688\n",
            " - Test Accuracy: 0.5\n",
            "Epoch 2/2, Step 501/782\n",
            " - Train Loss: 1.143967866897583\n",
            " - Test Loss: 1.4799407720565796\n",
            " - Test Accuracy: 0.5\n",
            "Epoch 2/2, Step 601/782\n",
            " - Train Loss: 1.1037694215774536\n",
            " - Test Loss: 1.3248053789138794\n",
            " - Test Accuracy: 0.4375\n",
            "Epoch 2/2, Step 701/782\n",
            " - Train Loss: 1.0094178915023804\n",
            " - Test Loss: 1.4019593000411987\n",
            " - Test Accuracy: 0.375\n"
          ]
        }
      ],
      "source": [
        "model = VGG16().to(device)\n",
        "criterion = nn.CrossEntropyLoss()\n",
        "optimizer = optim.Adam(model.parameters(), lr=0.001)\n",
        "losses, test_losses, test_accuracies = train(model, train_loader, optimizer, criterion)"
      ]
    },
    {
      "cell_type": "code",
      "source": [
        "plt.figure(figsize=(15, 5))\n",
        "plt.subplot(1, 3, 1)\n",
        "plt.plot(losses)\n",
        "plt.title(\"Train Loss\")\n",
        "\n",
        "plt.subplot(1, 3, 2)\n",
        "plt.plot(test_losses)\n",
        "plt.title(\"Test Loss\")\n",
        "\n",
        "plt.subplot(1, 3, 3)\n",
        "plt.plot(test_accuracies)\n",
        "plt.title(\"Test Accuracy\")\n",
        "plt.show()\n",
        "\n",
        "\n",
        "print(f\"Average Test Loss: {sum(test_losses)/len(test_losses)}\")\n",
        "print(f\"Average Test Accuracy: {sum(test_accuracies)/len(test_accuracies)}\")"
      ],
      "metadata": {
        "colab": {
          "base_uri": "https://localhost:8080/",
          "height": 503
        },
        "id": "8WwsNZTwYAub",
        "outputId": "eaef0575-39b8-4ec6-931a-a4b8cb9e6e31"
      },
      "execution_count": 43,
      "outputs": [
        {
          "output_type": "display_data",
          "data": {
            "text/plain": [
              "<Figure size 1500x500 with 3 Axes>"
            ],
            "image/png": "[encoded data removed]"
          },
          "metadata": {}
        },
        {
          "output_type": "stream",
          "name": "stdout",
          "text": [
            "Average Test Loss: 1.6947615829527758\n",
            "Average Test Accuracy: 0.43371193272292996\n"
          ]
        }
      ]
    }
  ],
  "metadata": {
    "kernelspec": {
      "display_name": ".envMLPAPERS",
      "language": "python",
      "name": "python3"
    },
    "language_info": {
      "codemirror_mode": {
        "name": "ipython",
        "version": 3
      },
      "file_extension": ".py",
      "mimetype": "text/x-python",
      "name": "python",
      "nbconvert_exporter": "python",
      "pygments_lexer": "ipython3",
      "version": "3.9.6"
    },
    "colab": {
      "provenance": []
    }
  },
  "nbformat": 4,
  "nbformat_minor": 0
}