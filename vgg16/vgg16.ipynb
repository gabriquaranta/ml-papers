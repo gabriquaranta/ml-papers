{
  "cells": [
    {
      "cell_type": "code",
      "execution_count": 86,
      "metadata": {
        "id": "7BWvcn4yWOX3"
      },
      "outputs": [],
      "source": [
        "import torch\n",
        "import torch.nn as nn\n",
        "import torchvision.datasets as dset\n",
        "import torchvision.transforms as transforms\n",
        "from torch.autograd import Variable\n",
        "import torch.optim as optim\n",
        "import matplotlib.pyplot as plt\n",
        "import numpy as np"
      ]
    },
    {
      "cell_type": "code",
      "execution_count": 87,
      "metadata": {
        "colab": {
          "base_uri": "https://localhost:8080/"
        },
        "id": "5Y5IdTkDWQDo",
        "outputId": "5d94b7f5-5f50-49b8-dfdc-ebe3b9bd63b4"
      },
      "outputs": [
        {
          "name": "stdout",
          "output_type": "stream",
          "text": [
            "cuda:0\n"
          ]
        }
      ],
      "source": [
        "device = torch.device(\"cuda:0\" if torch.cuda.is_available() else \"cpu\")\n",
        "print(device)"
      ]
    },
    {
      "cell_type": "markdown",
      "metadata": {
        "id": "lbvLGp3tWOX3"
      },
      "source": [
        "# CIFAR10\n"
      ]
    },
    {
      "cell_type": "code",
      "execution_count": 88,
      "metadata": {
        "colab": {
          "base_uri": "https://localhost:8080/"
        },
        "id": "GQu_5bZTWOX4",
        "outputId": "1fb8f34b-3cc9-4d29-c9d2-50a91434d002"
      },
      "outputs": [
        {
          "name": "stdout",
          "output_type": "stream",
          "text": [
            "Files already downloaded and verified\n"
          ]
        }
      ],
      "source": [
        "trans = transforms.Compose([transforms.ToTensor(), transforms.Normalize((0.5,), (1.0,))])\n",
        "trans = transforms.Compose([transforms.ToTensor(), transforms.Normalize((0.5,), (1.0,))])\n",
        "train_set = dset.CIFAR10(root='./data', train=True,  download=True,transform=trans)\n",
        "test_set = dset.CIFAR10(root='./data', train=False, transform=trans)"
      ]
    },
    {
      "cell_type": "code",
      "execution_count": 89,
      "metadata": {
        "id": "OPlUSgw5WOX5"
      },
      "outputs": [],
      "source": [
        "BATCH_SIZE=64\n",
        "train_loader = torch.utils.data.DataLoader(dataset=train_set, batch_size=BATCH_SIZE, shuffle=True)\n",
        "test_loader = torch.utils.data.DataLoader(dataset=test_set, batch_size=BATCH_SIZE, shuffle=False)"
      ]
    },
    {
      "cell_type": "code",
      "execution_count": 90,
      "metadata": {
        "colab": {
          "base_uri": "https://localhost:8080/"
        },
        "id": "XFaBIqETWOX5",
        "outputId": "88beb0a1-c97b-4427-8b3f-1e7368c636ec"
      },
      "outputs": [
        {
          "name": "stdout",
          "output_type": "stream",
          "text": [
            "torch.Size([64, 3, 32, 32])\n",
            "(50000, 32, 32, 3)\n",
            "(10000, 32, 32, 3)\n"
          ]
        }
      ],
      "source": [
        "batch=next(iter(train_loader))\n",
        "print(batch[0].size())\n",
        "print(train_loader.dataset.data.shape)\n",
        "print(test_loader.dataset.data.shape)\n",
        "\n"
      ]
    },
    {
      "cell_type": "markdown",
      "metadata": {
        "id": "hxA-JTLvWOX5"
      },
      "source": [
        "# VGG16"
      ]
    },
    {
      "cell_type": "code",
      "execution_count": 91,
      "metadata": {
        "id": "dodIcQZuWOX5"
      },
      "outputs": [],
      "source": [
        "class VGG16(nn.Module):\n",
        "    def __init__(self):\n",
        "        super(VGG16, self).__init__()\n",
        "        self.features = nn.Sequential(\n",
        "            nn.Conv2d(3, 64, kernel_size=3, padding=1),\n",
        "            nn.Conv2d(64, 64, kernel_size=3, padding=1),\n",
        "            nn.MaxPool2d(kernel_size=2, stride=2),\n",
        "\n",
        "            nn.Conv2d(64, 128, kernel_size=3, padding=1),\n",
        "            nn.Conv2d(128, 128, kernel_size=3, padding=1),\n",
        "            nn.MaxPool2d(kernel_size=2, stride=2),\n",
        "\n",
        "            nn.Conv2d(128, 256, kernel_size=3, padding=1),\n",
        "            nn.Conv2d(256, 256, kernel_size=3, padding=1),\n",
        "            nn.Conv2d(256, 256, kernel_size=3, padding=1),\n",
        "            nn.MaxPool2d(kernel_size=2, stride=2),\n",
        "\n",
        "            nn.Conv2d(256, 512, kernel_size=3, padding=1),\n",
        "            nn.Conv2d(512, 512, kernel_size=3, padding=1),\n",
        "            nn.Conv2d(512, 512, kernel_size=3, padding=1),\n",
        "            nn.MaxPool2d(kernel_size=2, stride=2),\n",
        "\n",
        "            nn.Conv2d(512, 512, kernel_size=3, padding=1),\n",
        "            nn.Conv2d(512, 512, kernel_size=3, padding=1),\n",
        "            nn.Conv2d(512, 512, kernel_size=3, padding=1),\n",
        "            nn.MaxPool2d(kernel_size=2, stride=2),\n",
        "        )\n",
        "        self.classifier = nn.Sequential(\n",
        "            nn.Linear(512, 1024),\n",
        "            nn.Linear(1024, 2048),\n",
        "            nn.Dropout(),\n",
        "            nn.Linear(2048, 10)\n",
        "        )\n",
        "\n",
        "        self._init_weights()\n",
        "\n",
        "    def forward(self, x):\n",
        "        x = self.features(x)\n",
        "        x = x.view(x.size(0), -1)\n",
        "        x = self.classifier(x)\n",
        "        return x\n",
        "\n",
        "    def _init_weights(self):\n",
        "        for m in self.modules():\n",
        "            if isinstance(m, nn.Conv2d) or isinstance(m, nn.Linear):\n",
        "                nn.init.xavier_normal_(m.weight)\n",
        "                nn.init.constant_(m.bias, 0)"
      ]
    },
    {
      "cell_type": "code",
      "execution_count": 92,
      "metadata": {
        "id": "CshobvOKWOX6"
      },
      "outputs": [],
      "source": [
        "def test(model, test_loader, criterion):\n",
        "    model.eval()\n",
        "    test_losses = []\n",
        "    test_accuracies = []\n",
        "\n",
        "\n",
        "\n",
        "    for _, data in enumerate(test_loader):\n",
        "        inputs, labels = data\n",
        "        inputs, labels = Variable(inputs).to(device), Variable(labels).to(device)\n",
        "        outputs = model(inputs)\n",
        "\n",
        "        loss = criterion(outputs, labels)\n",
        "        test_losses.append(loss.item())\n",
        "\n",
        "        _, predicted = torch.max(outputs.data, 1)\n",
        "        correct = (predicted == labels).sum().item()\n",
        "        accuracy = correct / len(labels)\n",
        "        test_accuracies.append(accuracy)\n",
        "\n",
        "    return np.mean(test_losses), np.mean(test_accuracies)"
      ]
    },
    {
      "cell_type": "code",
      "execution_count": 93,
      "metadata": {
        "id": "skb4F5IJWOX6"
      },
      "outputs": [],
      "source": [
        "def train(model, train_loader, optimizer, criterion,epochs):\n",
        "    train_losses = []\n",
        "    test_losses = []\n",
        "    test_accuracies = []\n",
        "\n",
        "    model.train()\n",
        "\n",
        "    for epoch in range(EPOCHS):\n",
        "        for i, (images, labels) in enumerate(train_loader):\n",
        "            images = Variable(images).to(device)\n",
        "            labels = Variable(labels).to(device)\n",
        "\n",
        "            optimizer.zero_grad()\n",
        "            outputs = model(images)\n",
        "            loss = criterion(outputs, labels)\n",
        "            loss.backward()\n",
        "            optimizer.step()\n",
        "\n",
        "            train_losses.append(loss.item())\n",
        "\n",
        "            if i%100==0:\n",
        "\n",
        "                tl, ta = test(model, test_loader, criterion)\n",
        "                test_losses.append(tl)\n",
        "                test_accuracies.append(ta)\n",
        "\n",
        "                print(f'\\nEpoch {epoch+1}/{EPOCHS}, Step {i+1}/{len(train_loader)}\\n - Train Loss: {loss.item()}')\n",
        "                print(f' - Test Loss: {tl}\\n - Test Accuracy: {ta}')\n",
        "\n",
        "\n",
        "    return train_losses, test_losses, test_accuracies\n",
        "\n"
      ]
    },
    {
      "cell_type": "code",
      "execution_count": 94,
      "metadata": {
        "colab": {
          "base_uri": "https://localhost:8080/"
        },
        "id": "wejTMnVdWOX6",
        "outputId": "4e624b41-5829-440e-d766-3fe57558a72b"
      },
      "outputs": [
        {
          "name": "stdout",
          "output_type": "stream",
          "text": [
            "\n",
            "Epoch 1/3, Step 1/782\n",
            " - Train Loss: 2.304152011871338\n",
            " - Test Loss: 3.7404793690723976\n",
            " - Test Accuracy: 0.09952229299363058\n",
            "\n",
            "Epoch 1/3, Step 101/782\n",
            " - Train Loss: 2.1138148307800293\n",
            " - Test Loss: 1.9922495070536426\n",
            " - Test Accuracy: 0.2425358280254777\n",
            "\n",
            "Epoch 1/3, Step 201/782\n",
            " - Train Loss: 1.6901512145996094\n",
            " - Test Loss: 1.6984677466617268\n",
            " - Test Accuracy: 0.35240843949044587\n",
            "\n",
            "Epoch 1/3, Step 301/782\n",
            " - Train Loss: 1.6376599073410034\n",
            " - Test Loss: 1.5381579482631318\n",
            " - Test Accuracy: 0.41938694267515925\n",
            "\n",
            "Epoch 1/3, Step 401/782\n",
            " - Train Loss: 1.5787830352783203\n",
            " - Test Loss: 1.4632605025722722\n",
            " - Test Accuracy: 0.4468550955414013\n",
            "\n",
            "Epoch 1/3, Step 501/782\n",
            " - Train Loss: 1.481456995010376\n",
            " - Test Loss: 1.371297091435475\n",
            " - Test Accuracy: 0.49572054140127386\n",
            "\n",
            "Epoch 1/3, Step 601/782\n",
            " - Train Loss: 1.3620023727416992\n",
            " - Test Loss: 1.3032265833229015\n",
            " - Test Accuracy: 0.5169187898089171\n",
            "\n",
            "Epoch 1/3, Step 701/782\n",
            " - Train Loss: 1.3680304288864136\n",
            " - Test Loss: 1.319181201943926\n",
            " - Test Accuracy: 0.5142316878980892\n",
            "\n",
            "Epoch 2/3, Step 1/782\n",
            " - Train Loss: 1.233129858970642\n",
            " - Test Loss: 1.3046496855984828\n",
            " - Test Accuracy: 0.5413017515923567\n",
            "\n",
            "Epoch 2/3, Step 101/782\n",
            " - Train Loss: 1.116836667060852\n",
            " - Test Loss: 1.2545883807407063\n",
            " - Test Accuracy: 0.5475716560509554\n",
            "\n",
            "Epoch 2/3, Step 201/782\n",
            " - Train Loss: 1.035149097442627\n",
            " - Test Loss: 1.112258171199993\n",
            " - Test Accuracy: 0.6064888535031847\n",
            "\n",
            "Epoch 2/3, Step 301/782\n",
            " - Train Loss: 0.907005786895752\n",
            " - Test Loss: 1.062918142528291\n",
            " - Test Accuracy: 0.6198248407643312\n",
            "\n",
            "Epoch 2/3, Step 401/782\n",
            " - Train Loss: 1.1262935400009155\n",
            " - Test Loss: 1.0649547656630254\n",
            " - Test Accuracy: 0.6152468152866242\n",
            "\n",
            "Epoch 2/3, Step 501/782\n",
            " - Train Loss: 0.9457202553749084\n",
            " - Test Loss: 1.089678184621653\n",
            " - Test Accuracy: 0.6210191082802548\n",
            "\n",
            "Epoch 2/3, Step 601/782\n",
            " - Train Loss: 1.0773828029632568\n",
            " - Test Loss: 0.9665344634633155\n",
            " - Test Accuracy: 0.6626194267515924\n",
            "\n",
            "Epoch 2/3, Step 701/782\n",
            " - Train Loss: 0.9634779095649719\n",
            " - Test Loss: 1.0574646261846943\n",
            " - Test Accuracy: 0.634952229299363\n",
            "\n",
            "Epoch 3/3, Step 1/782\n",
            " - Train Loss: 1.0826975107192993\n",
            " - Test Loss: 1.1553390918263964\n",
            " - Test Accuracy: 0.6078821656050956\n",
            "\n",
            "Epoch 3/3, Step 101/782\n",
            " - Train Loss: 0.882683277130127\n",
            " - Test Loss: 1.0645812187984491\n",
            " - Test Accuracy: 0.6340565286624203\n",
            "\n",
            "Epoch 3/3, Step 201/782\n",
            " - Train Loss: 0.9807161688804626\n",
            " - Test Loss: 1.011642967439761\n",
            " - Test Accuracy: 0.6436106687898089\n",
            "\n",
            "Epoch 3/3, Step 301/782\n",
            " - Train Loss: 0.9911752939224243\n",
            " - Test Loss: 0.9752067008595557\n",
            " - Test Accuracy: 0.669984076433121\n",
            "\n",
            "Epoch 3/3, Step 401/782\n",
            " - Train Loss: 0.9947064518928528\n",
            " - Test Loss: 0.9703253667066052\n",
            " - Test Accuracy: 0.6696855095541401\n",
            "\n",
            "Epoch 3/3, Step 501/782\n",
            " - Train Loss: 0.9717774987220764\n",
            " - Test Loss: 0.9931988313699224\n",
            " - Test Accuracy: 0.6528662420382165\n",
            "\n",
            "Epoch 3/3, Step 601/782\n",
            " - Train Loss: 0.8371779918670654\n",
            " - Test Loss: 0.914743844870549\n",
            " - Test Accuracy: 0.6949641719745223\n",
            "\n",
            "Epoch 3/3, Step 701/782\n",
            " - Train Loss: 1.0244957208633423\n",
            " - Test Loss: 0.9987880029496113\n",
            " - Test Accuracy: 0.6633160828025477\n"
          ]
        }
      ],
      "source": [
        "model = VGG16().to(device)\n",
        "criterion = nn.CrossEntropyLoss()\n",
        "optimizer = optim.Adam(model.parameters(), lr=0.001)\n",
        "EPOCHS=3\n",
        "\n",
        "losses, test_losses, test_accuracies = train(model, train_loader, optimizer, criterion,EPOCHS)"
      ]
    },
    {
      "cell_type": "code",
      "execution_count": 95,
      "metadata": {
        "colab": {
          "base_uri": "https://localhost:8080/",
          "height": 503
        },
        "id": "8WwsNZTwYAub",
        "outputId": "9c4f29a9-4ef6-4342-931e-68c48962db41"
      },
      "outputs": [
        {
          "data": {
            "image/png": "[encoded data removed]",
            "text/plain": [
              "<Figure size 1500x500 with 3 Axes>"
            ]
          },
          "metadata": {},
          "output_type": "display_data"
        },
        {
          "name": "stdout",
          "output_type": "stream",
          "text": [
            "Best Test Loss: 0.914743844870549\n",
            "Best Test Accuracy: 0.6949641719745223\n"
          ]
        }
      ],
      "source": [
        "plt.figure(figsize=(15, 5))\n",
        "plt.subplot(1, 3, 1)\n",
        "plt.plot(losses)\n",
        "plt.yscale('log')\n",
        "plt.title(\"Train Loss\")\n",
        "\n",
        "plt.subplot(1, 3, 2)\n",
        "plt.plot(test_losses)\n",
        "plt.title(\"Test Loss\")\n",
        "\n",
        "plt.subplot(1, 3, 3)\n",
        "plt.plot(test_accuracies)\n",
        "plt.title(\"Test Accuracy\")\n",
        "plt.show()\n",
        "\n",
        "\n",
        "print(f\"Best Test Loss: {np.min(test_losses)}\")\n",
        "print(f\"Best Test Accuracy: {np.max(test_accuracies)}\")"
      ]
    }
  ],
  "metadata": {
    "colab": {
      "provenance": []
    },
    "kernelspec": {
      "display_name": ".envMLPAPERS",
      "language": "python",
      "name": "python3"
    },
    "language_info": {
      "codemirror_mode": {
        "name": "ipython",
        "version": 3
      },
      "file_extension": ".py",
      "mimetype": "text/x-python",
      "name": "python",
      "nbconvert_exporter": "python",
      "pygments_lexer": "ipython3",
      "version": "3.9.6"
    }
  },
  "nbformat": 4,
  "nbformat_minor": 0
}
